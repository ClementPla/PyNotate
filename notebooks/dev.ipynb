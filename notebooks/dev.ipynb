{
 "cells": [
  {
   "cell_type": "code",
   "execution_count": 5,
   "metadata": {},
   "outputs": [
    {
     "name": "stdout",
     "output_type": "stream",
     "text": [
      "The autoreload extension is already loaded. To reload it, use:\n",
      "  %reload_ext autoreload\n"
     ]
    }
   ],
   "source": [
    "%load_ext autoreload\n",
    "%autoreload 2"
   ]
  },
  {
   "cell_type": "code",
   "execution_count": 6,
   "metadata": {},
   "outputs": [],
   "source": [
    "ROOT_FOLDER = 'C:/Users/cleme/Documents/demo/fundus/'"
   ]
  },
  {
   "cell_type": "code",
   "execution_count": 7,
   "metadata": {},
   "outputs": [
    {
     "data": {
      "application/vnd.jupyter.widget-view+json": {
       "model_id": "d339e43ef1504880b96f93a7a6a451fb",
       "version_major": 2,
       "version_minor": 0
      },
      "text/plain": [
       "  0%|          | 0/5 [00:00<?, ?it/s]"
      ]
     },
     "metadata": {},
     "output_type": "display_data"
    }
   ],
   "source": [
    "from pathlib import Path\n",
    "from pynotate import Project\n",
    "import numpy as np\n",
    "from fundus_lesions_toolkit.models.segmentation import segment as segment_lesions, Dataset\n",
    "from fundus_data_toolkit.functional import open_image\n",
    "\n",
    "from fundus_lesions_toolkit.constants import LESIONS\n",
    "from fundus_odmac_toolkit.models.segmentation import segment as segment_odmac\n",
    "from tqdm.notebook import tqdm\n",
    "\n",
    "segmentation_classes = ['Lesions/' + l for l in LESIONS[1:]] + ['OD', 'MAC']\n",
    "\n",
    "classifications_classes = [{'name': 'Diabetic Retinopathy', 'classes': ['No DR', 'Mild', 'Moderate', 'Severe', 'Proliferative']}]\n",
    "classification_multilabel = {'name': 'Others diseases', 'classes': ['Hypertension', 'Glaucoma', 'Myopia', 'Other']}\n",
    "\n",
    "def run_model(filepath):\n",
    "    img = open_image(filepath)\n",
    "    lesions = segment_lesions(img, train_datasets=Dataset.IDRID).argmax(0).cpu().numpy()\n",
    "    od_mask = segment_odmac(img).argmax(0).cpu().numpy()\n",
    "    # Lesions\n",
    "    masks = [255*(lesions == i).astype(np.uint8) for i in range(1, 5)]\n",
    "    # OD and MAC\n",
    "    masks += [255*(od_mask==i) for i in range(1, 3)] \n",
    "\n",
    "    # Random classification\n",
    "    multilabel = np.random.choice(classification_multilabel['classes'], size=np.random.randint(0, len(classification_multilabel['classes']))).tolist()\n",
    "    multiclass = np.random.choice(classifications_classes[0]['classes'], size=1).tolist()\n",
    "    multilabel = None if len(multilabel) == 0 else multilabel\n",
    "    \n",
    "    return masks, multiclass, multilabel\n",
    "\n",
    "ALL_FILES = list(Path(ROOT_FOLDER).glob('*.jpeg'))\n",
    "INPUT_DIR = \"inputFundus/\" # Folder where the images are stored. Can be the same as the root folder\n",
    "OUTPUT_DIR = \"output/\" # Folder where the annotations will be stored.\n",
    "\n",
    "with Project(project_name=\"FundusLesions\", \n",
    "             input_dir=str(Path(INPUT_DIR).resolve()),\n",
    "             output_dir=str(Path(OUTPUT_DIR).resolve()),\n",
    "             classification_classes=classifications_classes,\n",
    "             classification_multilabel=classification_multilabel,\n",
    "             text_names=[\"Comments on DR\", \"Comments on others diseases\"],\n",
    "             segmentation_classes=segmentation_classes) as cli:\n",
    "    for filepath in tqdm(ALL_FILES[:5]):\n",
    "        texts = [\"\", \"\"]\n",
    "        masks, multiclass, multilabel = run_model(filepath)\n",
    "        cli.load_image(image_path=filepath, segmentation_masks=masks, multiclass_choices=multiclass, multilabel_choices=multilabel, texts=texts)\n",
    "\n"
   ]
  },
  {
   "cell_type": "code",
   "execution_count": null,
   "metadata": {},
   "outputs": [],
   "source": []
  }
 ],
 "metadata": {
  "kernelspec": {
   "display_name": "torch",
   "language": "python",
   "name": "python3"
  },
  "language_info": {
   "codemirror_mode": {
    "name": "ipython",
    "version": 3
   },
   "file_extension": ".py",
   "mimetype": "text/x-python",
   "name": "python",
   "nbconvert_exporter": "python",
   "pygments_lexer": "ipython3",
   "version": "3.12.8"
  }
 },
 "nbformat": 4,
 "nbformat_minor": 2
}
